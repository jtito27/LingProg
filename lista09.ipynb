{
 "cells": [
  {
   "cell_type": "markdown",
   "metadata": {},
   "source": [
    "### 2-) Implementar um gerador que leia um arquivo e retorne uma lista de tuplas com os\n",
    "dados (o separador de campo do arquivo é virgula), eliminando as linhas vazias. Caso\n",
    "ocorra algum problema, imprima uma mensagem de aviso e encerre o programa.\n",
    "Use o exemplo abaixo como arquivo de entrada:"
   ]
  },
  {
   "cell_type": "code",
   "execution_count": 97,
   "metadata": {
    "collapsed": true
   },
   "outputs": [
    {
     "data": {
      "text/plain": [
       "[('12', 'branco'),\n",
       " ('11', 'roxo'),\n",
       " ('10', 'roxo'),\n",
       " ('amarelo\\n9', 'preto'),\n",
       " ('laranja', '8'),\n",
       " ('preto', '7'),\n",
       " ('verde', '6'),\n",
       " ('4', 'roxo\\n5'),\n",
       " ('3', 'amarelo'),\n",
       " ('2', 'verde'),\n",
       " ('1', 'vermelho')]"
      ]
     },
     "execution_count": 97,
     "metadata": {},
     "output_type": "execute_result"
    }
   ],
   "source": [
    "def gera_tupla(txt):\n",
    "    try:\n",
    "        text = open(txt,'r').read().split(',')\n",
    "        tuples = []\n",
    "        i=0\n",
    "        while i-1<=len(text):\n",
    "            if i%2==0:\n",
    "                next_tuple = tuple(text[i-2:i])\n",
    "                if len(next_tuple)==0:\n",
    "                    i += 1\n",
    "                else:\n",
    "                    tuples.insert(0, next_tuple)\n",
    "                    i += 1\n",
    "            else:\n",
    "                i += 1\n",
    "    except ValueError:\n",
    "        \"Deu erro\"\n",
    "    yield tuples\n",
    "tupla = gera_tupla('text.txt')\n",
    "next(tupla)"
   ]
  },
  {
   "cell_type": "markdown",
   "metadata": {},
   "source": [
    "###  1-) Implemente um gerador infinito de números primos."
   ]
  },
  {
   "cell_type": "code",
   "execution_count": 103,
   "metadata": {
    "collapsed": true
   },
   "outputs": [
    {
     "name": "stdout",
     "output_type": "stream",
     "text": [
      "1\n",
      "2\n",
      "3\n",
      "5\n",
      "7\n",
      "11\n",
      "13\n",
      "17\n",
      "19\n",
      "23\n"
     ]
    }
   ],
   "source": [
    "def prime_generator(n):\n",
    "    try:\n",
    "        D = {}\n",
    "        q = 1\n",
    "\n",
    "        while True:\n",
    "            if q not in D:\n",
    "                yield q\n",
    "                D[q * q] = [q]\n",
    "            else:\n",
    "                for p in D[q]:\n",
    "                    D.setdefault(p + q, []).append(p)\n",
    "                del D[q]\n",
    "\n",
    "            q += 1\n",
    "    except ValueError:\n",
    "        \"Deu erro\"\n",
    "    \n",
    "prime = prime_generator(5)\n",
    "i = 0\n",
    "while i < 10:\n",
    "    print (next(prime))\n",
    "    i += 1"
   ]
  },
  {
   "cell_type": "markdown",
   "metadata": {},
   "source": [
    "### 3-) Implementar dois geradores e rodá-los em paralelo (coroutine) para processar dois\n",
    "arquivos e gerar tuplas. O primeiro é similar ao do exercício 2. O segundo processa\n",
    "outro arquivo, também separado por vírgulas. No final, a lista gerada deve conter\n",
    "tuplas com 3 elementos."
   ]
  },
  {
   "cell_type": "code",
   "execution_count": 154,
   "metadata": {
    "collapsed": true
   },
   "outputs": [
    {
     "name": "stdout",
     "output_type": "stream",
     "text": [
      "('1', 'vermelho') , False\n",
      "('2', 'verde') , True\n",
      "('3', 'amarelo') , False\n",
      "('4', 'roxo\\n5') , False\n",
      "('verde', '6') , True\n",
      "('preto', '7') , True\n",
      "('laranja', '8') , True\n",
      "('amarelo\\n9', 'preto') , False\n",
      "('10', 'roxo') , True\n",
      "('11', 'roxo') , False\n"
     ]
    }
   ],
   "source": [
    "def text(text):\n",
    "    text = open(text,'r').read().split(',')\n",
    "    tuples = []\n",
    "    i=0\n",
    "    while i-1<=len(text):\n",
    "        if i%2==0:\n",
    "            next_tuple = tuple(text[i-2:i])\n",
    "            if len(next_tuple)==0:\n",
    "                i += 1\n",
    "            else:\n",
    "                tuples.insert(0, next_tuple)\n",
    "                yield next_tuple\n",
    "                i += 1\n",
    "        else:\n",
    "            i += 1\n",
    "def numbers(numbers):\n",
    "    numbers = open(numbers,'r').read().replace('\\n','').split(',')\n",
    "    new_text = []\n",
    "    for i in numbers:\n",
    "        if i == '0':\n",
    "            new_text.append('False')\n",
    "            yield 'False'\n",
    "        elif i== '1':\n",
    "            new_text.append('True')\n",
    "            yield 'True'\n",
    "\n",
    "for i, (f, t) in enumerate(zip(text('text.txt'), numbers('numbers.txt'))):\n",
    "    if i == 10:\n",
    "        break\n",
    "    print(str(f),',', t)\n"
   ]
  },
  {
   "cell_type": "markdown",
   "metadata": {},
   "source": [
    "### 4-) Escreva um generator que crie um fluxo infinito de inteiros a partir de um valor\n",
    "inicial dado com passo 5. "
   ]
  },
  {
   "cell_type": "code",
   "execution_count": 171,
   "metadata": {},
   "outputs": [
    {
     "data": {
      "text/plain": [
       "12"
      ]
     },
     "execution_count": 171,
     "metadata": {},
     "output_type": "execute_result"
    }
   ],
   "source": [
    "def passo(inicial):\n",
    "    while inicial > 0:\n",
    "        yield inicial + 5\n",
    "        inicial += 5\n",
    "proximo_passo = passo(7)\n",
    "next(proximo_passo)\n"
   ]
  },
  {
   "cell_type": "markdown",
   "metadata": {},
   "source": [
    "### 5-) Estenda o generator do exercício 4 em uma coroutine que permita que a mudança\n",
    "do passo seja feita de fora (use send())."
   ]
  },
  {
   "cell_type": "code",
   "execution_count": 212,
   "metadata": {},
   "outputs": [],
   "source": [
    "def passo_de_fora(inicial):\n",
    "    while inicial > 0:\n",
    "        passo = yield\n",
    "        yield inicial + passo\n",
    "        inicial += passo\n",
    "\n",
    "proximo_passo = passo_de_fora(7)\n",
    "next(proximo_passo)\n",
    "proximo_passo.send(4)"
   ]
  },
  {
   "cell_type": "code",
   "execution_count": 221,
   "metadata": {},
   "outputs": [
    {
     "name": "stdout",
     "output_type": "stream",
     "text": [
      "26\n"
     ]
    }
   ],
   "source": []
  }
 ],
 "metadata": {
  "kernelspec": {
   "display_name": "Python 3",
   "language": "python",
   "name": "python3"
  },
  "language_info": {
   "codemirror_mode": {
    "name": "ipython",
    "version": 3
   },
   "file_extension": ".py",
   "mimetype": "text/x-python",
   "name": "python",
   "nbconvert_exporter": "python",
   "pygments_lexer": "ipython3",
   "version": "3.6.5"
  }
 },
 "nbformat": 4,
 "nbformat_minor": 2
}
