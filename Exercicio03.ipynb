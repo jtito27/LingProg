{
 "cells": [
  {
   "cell_type": "code",
   "execution_count": null,
   "metadata": {},
   "outputs": [],
   "source": [
    "#//* Created By: João Victor Veronesi - RA: 201516689\n",
    "#    Date: 25/03/2018\n",
    "#    ....\n",
    "#    ....\n",
    "#    *"
   ]
  },
  {
   "cell_type": "markdown",
   "metadata": {},
   "source": [
    "1 - Faça um Programa que peça dois números e imprima o maior deles."
   ]
  },
  {
   "cell_type": "code",
   "execution_count": 1,
   "metadata": {},
   "outputs": [
    {
     "name": "stdout",
     "output_type": "stream",
     "text": [
      "Digite um número: 2\n",
      "Digite um número: 4\n",
      "O maior número é o:  4\n"
     ]
    }
   ],
   "source": [
    "num1 = input (\"Digite um número: \")\n",
    "num2 = input(\"Digite um número: \")\n",
    "\n",
    "if num1 > num2:\n",
    "    print (\"O maior número é o: \", num1)\n",
    "elif num1 == num2:\n",
    "    print(\"Os números são iguais!\")\n",
    "else:\n",
    "    print(\"O maior número é o: \", num2)"
   ]
  },
  {
   "cell_type": "markdown",
   "metadata": {},
   "source": [
    "2 - Faça um Programa que verifique se uma letra digitada é vogal ou consoante."
   ]
  },
  {
   "cell_type": "code",
   "execution_count": null,
   "metadata": {},
   "outputs": [],
   "source": [
    "letra = input(\"Digite uma letra.\")\n",
    "print (\"A letra digitada foi: \",letra)\n",
    "if (letra == 'a' or letra == 'A' or letra == 'e' or letra == 'E' or letra == 'i' or letra == 'I'\n",
    "    or letra == 'o' or letra == 'O' or letra == 'u' or letra == 'U'):\n",
    "    print (\"A letra digita é uma Vogal!\")\n",
    "else:\n",
    "    print(\"A letra digitada é uma Consoante!\")"
   ]
  },
  {
   "cell_type": "markdown",
   "metadata": {},
   "source": [
    "3 - Faça um programa para a leitura de duas notas parciais de um aluno. O programa deve calcular a média alcançada por aluno e apresentar: - A mensagem \"Aprovado\", se a média alcançada for maior ou igual a sete; - A mensagem \"Reprovado\", se a média for menor do que sete; - A mensagem \"Aprovado com Distinção\", se a média for igual a dez."
   ]
  },
  {
   "cell_type": "code",
   "execution_count": null,
   "metadata": {},
   "outputs": [],
   "source": [
    "nota1 = int(input(\"Digite a primeira nota: \"))\n",
    "nota2 = int(input(\"Digite a segunda nota: \"))\n",
    "\n",
    "media = (nota1 + nota2)/2\n",
    "\n",
    "print (media)\n",
    "if(media >= 7 and media != 10):\n",
    "    print(\"Aprovado!\")\n",
    "elif(media < 7):\n",
    "        print (\"Reprovado!\")\n",
    "elif(media == 10):\n",
    "            print (\"Aprovado com Distinção.\")"
   ]
  },
  {
   "cell_type": "markdown",
   "metadata": {},
   "source": [
    "4 - Faça um Programa que leia três números e mostre-os em ordem decrescente."
   ]
  },
  {
   "cell_type": "code",
   "execution_count": null,
   "metadata": {},
   "outputs": [],
   "source": [
    "num1 = int(input(\"Digite o primeiro número: \"))\n",
    "num2 = int(input(\"Digite o segundo número:  \"))\n",
    "num3 = int(input(\"Digite o terceiro número: \"))\n",
    "\n",
    "if(num1 > num2 and num1 > num3 and num2 > num3 ):\n",
    "    print(\"\",num1,\"\\n\",num2,\"\\n\",num3,\"\\n\")\n",
    "elif(num1 > num2 and num1> num3 and num3 > num2):\n",
    "    print(\"\",num1,\"\\n\",num3,\"\\n\",num2)\n",
    "elif(num2 > num1 and num2 > num3 and num1>num3):\n",
    "    print(\"\",num2,\"\\n\",num1,\"\\n\",num3)\n",
    "elif(num2 > num1 and num2 > num3 and num3>num1):\n",
    "    print(\"\",num2,\"\\n\",num3,\"\\n\",num1)\n",
    "elif(num3 > num1 and num3 > num2 and num1>num2):\n",
    "    print(\"\",num3,\"\\n\",num1,\"\\n\",num2)\n",
    "elif(num3 > num1 and num3 > num2 and num2>num1):\n",
    "    print(\"\",num3,\"\\n\",num2,\"\\n\",num1)"
   ]
  },
  {
   "cell_type": "markdown",
   "metadata": {},
   "source": [
    "5 - As Organizações Tabajara resolveram dar um aumento de salário aos seus colaboradores e lhe contrataram para desenvolver o programa que calculará os reajustes. Faça um programa que recebe o salário de um colaborador e o reajuste segundo o seguinte critério, baseado no salário atual: - salários até R 280,00(incluindo):aumentode20280,00(incluindo):aumentode20  280,00 e R 700,00:aumentode15700,00:aumentode15  700,00 e R 1500,00:aumentode101500,00:aumentode10  1500,00 em diante : aumento de 5% Após o aumento ser realizado, informe na tela: - o salário antes do reajuste; - o percentual de aumento aplicado; - o valor do aumento; - o novo salário, após o aumento."
   ]
  },
  {
   "cell_type": "code",
   "execution_count": null,
   "metadata": {},
   "outputs": [],
   "source": [
    "salario = int (input(\"Digite o salario do colaborador: \"))\n",
    "salario_reajustado = 0\n",
    "\n",
    "if(salario <= 280):\n",
    "    salario_reajustado = salario + (salario*0.20)\n",
    "    print(\"Salario antes do reajuste:\",salario)\n",
    "    print('Percentual de aumento aplicado: 20%')\n",
    "    print(\"Valor do aumento: \",salario_reajustado - salario)\n",
    "    print(\"Novo Salario\",salario_reajustado)\n",
    "elif(salario > 280 and salario <=  699):\n",
    "    salario_reajustado = salario + (salario*0.15)\n",
    "    print(\"Salario antes do reajuste:\",salario)\n",
    "    print('Percentual de aumento aplicado: 15%')\n",
    "    print(\"Valor do aumento: \",salario_reajustado - salario)\n",
    "    print(\"Novo Salario\",salario_reajustado)\n",
    "elif(salario >= 700 and salario <= 1499):\n",
    "    salario_reajustado = salario + (salario*0.10)\n",
    "    print(\"Salario antes do reajuste:\",salario)\n",
    "    print('Percentual de aumento aplicado: 10%')\n",
    "    print(\"Valor do aumento: \",salario_reajustado - salario)\n",
    "    print(\"Novo Salario\",salario_reajustado)\n",
    "elif(salario >= 1500):\n",
    "    salario_reajustado = salario + (salario*0.05)\n",
    "    print(\"Salario antes do reajuste:\",salario)\n",
    "    print('Percentual de aumento aplicado: 5%')\n",
    "    print(\"Valor do aumento: \",salario_reajustado - salario)\n",
    "    print(\"Novo Salario\",salario_reajustado)"
   ]
  },
  {
   "cell_type": "markdown",
   "metadata": {},
   "source": [
    "6 - Faça um Programa que leia um número e exiba o dia correspondente da semana. (1-Domingo, 2- Segunda, etc.), se digitar outro valor deve aparecer valor inválido."
   ]
  },
  {
   "cell_type": "code",
   "execution_count": null,
   "metadata": {},
   "outputs": [],
   "source": [
    "numero = int(input(\"Digite um número, referente ao dia da semana, (entre 1 e 7): \"))\n",
    "\n",
    "if (numero == 1):\n",
    "    print(\"Domingo\")\n",
    "elif(numero == 2):\n",
    "        print(\"Segunda-Feira\")\n",
    "elif(numero == 3):\n",
    "            print(\"Terça-Feira\")\n",
    "elif(numero == 4):\n",
    "                print(\"Quarta-Feira\")\n",
    "elif(numero == 5):\n",
    "                    print(\"Quinta-Feira\")\n",
    "elif(numero == 6):\n",
    "                        print(\"Sexta-Feira\")\n",
    "elif(numero == 7):\n",
    "                            print(\"Sabado\")\n",
    "else:\n",
    "                                print(\"Valor inválido\")"
   ]
  },
  {
   "cell_type": "markdown",
   "metadata": {},
   "source": [
    "7- Faça um programa que lê as duas notas parciais obtidas por um aluno numa disciplina ao longo de um semestre, e calcule a sua média. A atribuição de conceitos obedece à tabela abaixo: Média de Aproveitamento Conceito Entre 9.0 e 10.0 A Entre 7.5 e 9.0 B Entre 6.0 e 7.5 C Entre 4.0 e 6.0 D Entre 4.0 e zero E O algoritmo deve mostrar na tela as notas, a média, o conceito correspondente e a mensagem “APROVADO” se o conceito for A, B ou C ou “REPROVADO” se o conceito for D ou E."
   ]
  },
  {
   "cell_type": "code",
   "execution_count": null,
   "metadata": {},
   "outputs": [],
   "source": [
    "nota1 = int(input(\"Digite a primeira nota: \"))\n",
    "nota2 = int(input(\"Digite a segunda nota:  \"))\n",
    "\n",
    "media = (nota1 + nota2)/2\n",
    "\n",
    "if(media >= 9 and media <= 10):\n",
    "    print(\"Notas: nota 1: \",nota1,\"- Nota2: \",nota2)\n",
    "    print(\"Média do Aluno: \",media)\n",
    "    print(\"Conceito: A\")\n",
    "    print(\"Aprovado\")\n",
    "elif(media>= 7.5 and media <9):\n",
    "    print(\"Notas: nota 1: \",nota1,\"- Nota2: \",nota2)\n",
    "    print(\"Média do Aluno: \",media)\n",
    "    print(\"Conceito: B\")\n",
    "    print(\"Aprovado\")\n",
    "elif(media>= 6 and media < 7.5):\n",
    "    print(\"Notas: nota 1: \",nota1,\"- Nota2: \",nota2)\n",
    "    print(\"Média do Aluno: \",media)\n",
    "    print(\"Conceito: C\")\n",
    "    print(\"Aprovado\")\n",
    "elif(media>= 4 and media <6):\n",
    "    print(\"Notas: nota 1: \",nota1,\"- Nota2: \",nota2)\n",
    "    print(\"Média do Aluno: \",media)\n",
    "    print(\"Conceito: D\")\n",
    "    print(\"REPROVADO!\")\n",
    "elif(media< 4):\n",
    "    print(\"Notas: nota 1: \",nota1,\"- Nota2: \",nota2)\n",
    "    print(\"Média do Aluno: \",media)\n",
    "    print(\"Conceito: E\")\n",
    "    print(\"REPROVADO!\")"
   ]
  },
  {
   "cell_type": "markdown",
   "metadata": {},
   "source": [
    "8- Faça um Programa que peça os 3 lados de um triângulo. O programa deverá informar se os valores podem ser um triângulo. Indique, caso os lados formem um triângulo, se o mesmo é: equilátero, isósceles ou escaleno. Dicas:\n",
    "\n",
    "Três lados formam um triângulo quando a soma de quaisquer dois lados for maior que o terceiro;\n",
    "\n",
    "Triângulo Equilátero: três lados iguais;\n",
    "\n",
    "Triângulo Isósceles: quaisquer dois lados iguais;\n",
    "\n",
    "Triângulo Escaleno: três lados diferentes;"
   ]
  },
  {
   "cell_type": "code",
   "execution_count": null,
   "metadata": {},
   "outputs": [],
   "source": [
    "ladoa = int(input(\"Digite o lado A do triangulo: \"))\n",
    "ladob = int(input(\"Digite o lado B do triangulo: \"))\n",
    "ladoc = int(input(\"Digite o lado C do triangulo: \"))\n",
    "\n",
    "triangulo = False;\n",
    "\n",
    "if((ladoa + ladob) > ladoc):\n",
    "    triangulo = True\n",
    "    \n",
    "    if(ladoa == ladob and ladoa == ladoc):\n",
    "        print(\"O triangulo é Equilátero\")\n",
    "    elif(ladoa == ladob or ladoa == ladoc or ladob == ladoc):\n",
    "        print(\"O triangulo é Isósceles\")\n",
    "    elif(ladoa != ladob and ladoa != ladoc and ladob != ladoc):\n",
    "        print(\"O triangulo é Escaleno\")\n",
    "else:\n",
    "    print(\"Não é um triangulo!\")"
   ]
  },
  {
   "cell_type": "markdown",
   "metadata": {},
   "source": [
    "9 - Faça um programa que calcule as raízes de uma equação do segundo grau, na forma ax2 + bx + c. O programa deverá pedir os valores de a, b e c e fazer as consistências, informando ao usuário nas seguintes situações:\n",
    "\n",
    "Se o usuário informar o valor de A igual a zero, a equação não é do segundo grau e o programa não deve fazer pedir os demais valores, sendo encerrado;\n",
    "\n",
    "Se o delta calculado for negativo, a equação não possui raizes reais. Informe ao usuário e encerre o programa;\n",
    "\n",
    "Se o delta calculado for igual a zero a equação possui apenas uma raiz real; informe-a ao usuário;\n",
    "\n",
    "Se o delta for positivo, a equação possui duas raiz reais; informe-as ao usuário;"
   ]
  },
  {
   "cell_type": "code",
   "execution_count": null,
   "metadata": {},
   "outputs": [],
   "source": [
    "a = int(input(\"Digite o valor de A: \"))\n",
    "while(a == 0):\n",
    "        print(\"O valor de A deve ser maior que ZERO!\")\n",
    "        break;\n",
    "else:\n",
    "    b = int(input(\"Digite o valor de B: \"))\n",
    "    c = int(input(\"Digite o valor de C: \"))\n",
    "\n",
    "    delta = (b*b) - (4*a)*c\n",
    "\n",
    "    if(delta < 0):\n",
    "        print(\"O delta é negativo, a equação não possui raizes reais.\")\n",
    "    elif(delta == 0):\n",
    "        print(\"A equação possui apenas 1 raiz real.\")\n",
    "    elif(delta > 0):\n",
    "        print(\"A equação possui duas raizes reais.\")"
   ]
  },
  {
   "cell_type": "markdown",
   "metadata": {},
   "source": [
    "10 - Faça um Programa para um caixa eletrônico. O programa deverá perguntar ao usuário a valor do saque e depois informar quantas notas de cada valor serão fornecidas. As notas disponíveis serão as de 1, 5, 10, 50 e 100 reais. O valor mínimo é de 10 reais e o máximo de 600 reais. O programa não deve se preocupar com a quantidade de notas existentes na máquina.\n",
    "\n",
    "Exemplo 1: Para sacar a quantia de 256 reais, o programa fornece duas notas de 100, uma nota de 50, uma nota de 5 e uma nota de 1;\n",
    "Exemplo 2: Para sacar a quantia de 399 reais, o programa fornece três notas de 100, uma nota de 50, quatro notas de 10, uma nota de 5 e quatro notas de 1."
   ]
  },
  {
   "cell_type": "code",
   "execution_count": null,
   "metadata": {},
   "outputs": [],
   "source": []
  },
  {
   "cell_type": "markdown",
   "metadata": {},
   "source": [
    "11 - Faça um programa que faça 5 perguntas para uma pessoa sobre um crime. As\n",
    "perguntas são:\n",
    "\n",
    "\"Telefonou para a vítima?\"\n",
    "\n",
    "\"Esteve no local do crime?\"\n",
    "\n",
    "\"Mora perto da vítima?\"\n",
    "\n",
    "\"Devia para a vítima?\"\n",
    "\n",
    "\"Já trabalhou com a vítima?\"\n",
    "\n",
    "O programa deve no final emitir uma classificação sobre a participação da pessoa no\n",
    "crime. Se a pessoa responder positivamente a 2 questões ela deve ser classificada\n",
    "como \"Suspeita\", entre 3 e 4 como \"Cúmplice\" e 5 como \"Assassino\". Caso contrário,\n",
    "ele será classificado como \"Inocente\"."
   ]
  },
  {
   "cell_type": "code",
   "execution_count": null,
   "metadata": {},
   "outputs": [],
   "source": [
    "qtde = 0    \n",
    "p1 = int(input(\"Telefonou para a vítima? \"\"\\nOBS: Responda com 1 para SIM e 2 para NÃO: \"))\n",
    "if(p1 == 1):\n",
    "    qtde +=1\n",
    "    print(qtde)\n",
    "p2 = int(input(\"Esteve no local do crime? \"\"\\nOBS: Responda com 1 para SIM e 2 para NÃO:: \"))\n",
    "if(p2 == 1):\n",
    "    qtde +=1\n",
    "    print(qtde)\n",
    "p3 = int(input(\"Mora perto da vítima? \"\"\\nOBS: Responda com 1 para SIM e 2 para NÃO: \"))\n",
    "if(p3 == 1):\n",
    "    qtde +=1\n",
    "    print(qtde)\n",
    "p4 = int(input(\"Devia para a vítima? \"\"\\nOBS: Responda com 1 para SIM e 2 para NÃO: \"))\n",
    "\n",
    "if(p4 == 1):\n",
    "    qtde +=1\n",
    "    print(qtde)\n",
    "p5 = int(input(\"Ja trabalhou com a vítima? \"\"\\nOBS: Responda com 1 para SIM e 2 para NÃO: \"))\n",
    "if(p5 == 1):\n",
    "    qtde +=1\n",
    "    print(qtde)\n",
    "    \n",
    "if(qtde == 2):\n",
    "    print(\"SUSPEITA!\")\n",
    "elif(qtde >=3 and qtde <=4):\n",
    "    print(\"CÚMPLICE\")\n",
    "elif(qtde==5):\n",
    "    print(\"ASSASSINO!\")\n",
    "elif(qtde <=1):\n",
    "    print(\"Esta pessoa é: Inocente :)\")"
   ]
  },
  {
   "cell_type": "markdown",
   "metadata": {},
   "source": [
    "12 - Uma fruteira está vendendo frutas com a seguinte tabela de preços: Até 5 Kg Acima de 5 Kg Morango R 2,50porKgR2,50porKgR  2,20 por Kg Maçã R 1,80porKgR1,80porKgR 1,50 por Kg Se o cliente comprar mais de 8 Kg em frutas ou o valor total da compra ultrapassar R$ 25,00, receberá ainda um desconto de 10% sobre este total. Escreva um algoritmo para ler a quantidade (em Kg) de morangos e a quantidade (em Kg) de maças adquiridas e escreva o valor a ser pago pelo cliente."
   ]
  },
  {
   "cell_type": "code",
   "execution_count": null,
   "metadata": {},
   "outputs": [],
   "source": [
    "qtde_morango = int(input(\"Digite a quantidade de Morangos: \"))\n",
    "qtde_macas = int(input(\"Digite a quantidade de Maçãs: \"))\n",
    "\n",
    "qtde_total = qtde_morango + qtde_macas\n",
    "valor_pagar = (qtde_morango * 2.50) + (qtde_macas * 1.80)\n",
    "\n",
    "if(qtde_total > 8 or valor_pagar > 25):\n",
    "    valor_desconto = (valor_pagar * 10)/100\n",
    "    print(\"Valor do desconto: \",valor_desconto)\n",
    "    print(\"Valor a pagar: \",valor_pagar - valor_desconto)\n",
    "else:\n",
    "    print(\"Valor a pagar: \",valor_pagar)"
   ]
  },
  {
   "cell_type": "markdown",
   "metadata": {},
   "source": [
    "13 -  Faça um programa que peça uma nota, entre zero e dez. Mostre uma mensagem caso o valor seja inválido e continue pedindo até que o usuário informe um valor válido."
   ]
  },
  {
   "cell_type": "code",
   "execution_count": null,
   "metadata": {},
   "outputs": [],
   "source": [
    "while True:\n",
    "    nota = int(input('Informe uma nota entre 0 e 10... '))\n",
    "    if nota >= 0 and nota <= 10:\n",
    "        break\n",
    "    else:\n",
    "        print(f'A nota informada é invalida. insira um valor entre 0 e 10...')\n",
    "        continue "
   ]
  },
  {
   "cell_type": "markdown",
   "metadata": {},
   "source": [
    "13.2 -  Faça um programa que leia e valide as seguintes informações: Nome: maior que 3 caracteres; Idade: entre 0 e 150; Salário: maior que zero; Sexo: 'f' ou 'm'; Estado Civil: 's', 'c', 'v', 'd';"
   ]
  },
  {
   "cell_type": "code",
   "execution_count": null,
   "metadata": {},
   "outputs": [],
   "source": [
    "def nome():\n",
    "    while True:\n",
    "        nome = input('Informe o seu Nome... ')\n",
    "        if len(nome) > 3:\n",
    "            return nome\n",
    "            break\n",
    "        else:\n",
    "            print(f'ERROR: O nome \"{nome}\" deve conter mais que 3 caracteres!.. ')\n",
    "            continue\n",
    "\n",
    "def idade():\n",
    "    while True:\n",
    "        idade = int(input('Informe sua Idade...'))\n",
    "        if idade >= 0 and  idade <= 150:\n",
    "            return idade\n",
    "            break\n",
    "        else:\n",
    "            print(f'ERROR: A idade {idade} deve ser entre 0 e 150!.. ')\n",
    "            continue\n",
    "\n",
    "def salario():\n",
    "    while True:\n",
    "        salario = float(input('Informe seu Salario...'))\n",
    "        if salario > 0:\n",
    "            return salario\n",
    "            break\n",
    "        else:\n",
    "            print(f'ERROR: O salário {salario} deve ser maior que 0!... ')\n",
    "            continue\n",
    "\n",
    "def sexo():\n",
    "    while True:\n",
    "        sexo = input('Informe seu Sexo M - Masculino ou F - Feminino...')\n",
    "        if sexo.upper() == 'M' or sexo.upper() == 'F':\n",
    "            return sexo\n",
    "            break\n",
    "        else:\n",
    "            print(f'ERROR: O sexo deve ser M ou F!. foi digitado {sexo}... ')\n",
    "            continue\n",
    "            \n",
    "def estadoCivil():\n",
    "    estsCiv = {'s': 'Solteiro', 'c': 'Casado', 'v':'Viuvo', 'd':'Divorciado'}\n",
    "    \n",
    "    while True:\n",
    "        estado = input(f'informe o estado civil {estsCiv}...')    \n",
    "        for item in estsCiv:\n",
    "            if item == estado:\n",
    "                return estsCiv[estado]\n",
    "                break\n",
    "            else:                \n",
    "                continue\n",
    "        print('Estado invalido selecione novamente')\n",
    "        \n",
    "a = nome()\n",
    "b = idade()\n",
    "c = salario()\n",
    "d = sexo()\n",
    "e = estadoCivil()\n",
    "\n",
    "print(f' Seu nome é {a}, sua idade é {b}, seus salário {c}, seu sexo é {d} e seu estado civil é {e}.')"
   ]
  },
  {
   "cell_type": "markdown",
   "metadata": {},
   "source": [
    "14 - Faça um programa que leia 5 números e informe o maior número."
   ]
  },
  {
   "cell_type": "code",
   "execution_count": null,
   "metadata": {},
   "outputs": [],
   "source": [
    "cont = 0\n",
    "lista = []\n",
    "while cont < 5:\n",
    "    lista.append( float(input('Número: ')))\n",
    "    cont +=1\n",
    "else:\n",
    "    print('O maior valor informado é: %.0f' %max(lista))"
   ]
  },
  {
   "cell_type": "markdown",
   "metadata": {},
   "source": [
    "15 - Faça um programa que leia 5 números e informe a soma e a média dos números."
   ]
  },
  {
   "cell_type": "code",
   "execution_count": null,
   "metadata": {},
   "outputs": [],
   "source": [
    "cont = 0\n",
    "soma = 0\n",
    "while cont < 5:\n",
    "    n = float(input('Nº: '))\n",
    "    cont +=1\n",
    "    soma= soma + n\n",
    "else:\n",
    "    media = soma / cont\n",
    "    print('A soma dos numeros é: %.0f'%soma)\n",
    "    print('A média dos numeros é: %.1f'%media)"
   ]
  },
  {
   "cell_type": "markdown",
   "metadata": {},
   "source": [
    "16 - Faça um programa que imprima na tela apenas os números ímpares entre 1 e 50."
   ]
  },
  {
   "cell_type": "code",
   "execution_count": null,
   "metadata": {},
   "outputs": [],
   "source": [
    "lista = list(range(1,51))\n",
    "\n",
    "for num in lista:\n",
    "    if num%2 != 0:\n",
    "        print(num)"
   ]
  },
  {
   "cell_type": "markdown",
   "metadata": {},
   "source": [
    "17 -  Desenvolva um gerador de tabuada, capaz de gerar a tabuada de qualquer número inteiro entre 1 a 10. O usuário deve informar de qual numero ele deseja ver a tabuada. A saída deve ser conforme o exemplo abaixo: Tabuada de 5: 5 X 1 = 5 5 X 2 = 10 ... 5 X 10 = 50"
   ]
  },
  {
   "cell_type": "code",
   "execution_count": null,
   "metadata": {},
   "outputs": [],
   "source": [
    "a = int(input('Qual tabuada deseja gerar?'))\n",
    "b = int(input('Até que valor?'))\n",
    "\n",
    "for res in range(0, b+1):\n",
    "    print(f'{a:2} X {res:2} = ', a * res)"
   ]
  },
  {
   "cell_type": "markdown",
   "metadata": {},
   "source": [
    "18 - A série de Fibonacci é formada pela seqüência 1,1,2,3,5,8,13,21,34,55,... Faça um programa capaz degerar a série até o n−ésimo termo."
   ]
  },
  {
   "cell_type": "code",
   "execution_count": null,
   "metadata": {},
   "outputs": [],
   "source": [
    "list = []\n",
    "\n",
    "def fib(n):\n",
    "    a = 0\n",
    "    b = 1;\n",
    "    while (b < n):\n",
    "        c = a\n",
    "        a = b\n",
    "        b = a + c\n",
    "        print (a)\n",
    "        \n",
    "fib('Digite aqui o número que deseja gerar a sequencia')"
   ]
  },
  {
   "cell_type": "markdown",
   "metadata": {},
   "source": [
    "19 - Faça um programa que calcule o fatorial de um número inteiro fornecido pelo usuário. Ex.: 5!=5.4.3.2.1=120"
   ]
  },
  {
   "cell_type": "code",
   "execution_count": null,
   "metadata": {},
   "outputs": [],
   "source": [
    "i = 1\n",
    "n_fat = 1 \n",
    "n = int(input('Numero a ser Fatorado: '))\n",
    "\n",
    "while i <= n:\n",
    "    n_fat = n_fat * i \n",
    "    i = i + 1    \n",
    "else:  \n",
    "    print(\"%d! = %d\" %(n, n_fat))  "
   ]
  },
  {
   "cell_type": "markdown",
   "metadata": {},
   "source": [
    "20 - O Sr. Manoel Joaquim possui uma grande loja de artigos de R$ 1,99, com cerca de 10 caixas. Para agilizar o cálculo de quanto cada cliente deve pagar ele desenvolveu um tabela que contém o número de itens que o cliente comprou e ao lado o valor da conta. Desta forma a atendente do caixa precisa apenas contar quantos itens o cliente está levando e olhar na tabela de preços. Você foi contratado para desenvolver o programa que monta esta tabela de preços, que conterá os preços de 1 até 50 produtos."
   ]
  },
  {
   "cell_type": "code",
   "execution_count": null,
   "metadata": {},
   "outputs": [],
   "source": [
    "print('Loja Quase Dois - Tabela de preços')\n",
    "for i in range(1,51):\n",
    "     print ('%15d - R$ %.2f' % (i, i * 1.99))"
   ]
  },
  {
   "cell_type": "markdown",
   "metadata": {},
   "source": [
    "21 - O Sr. Manoel Joaquim acaba de adquirir uma panificadora e pretende implantar a metodologia da tabelinha, que já é um sucesso na sua loja de 1,99. Você foi contratado para desenvolver o programa que monta a tabela de preços de pães, de 1 até 50 pães, a partir do preço do pão informado pelo usuário, conforme o exemplo abaixo: Preço do pão: R 0.18PanificadoraPãodeOntem−Tabeladepreços1−R0.18PanificadoraPãodeOntem−Tabeladepreços1−R  0.18 2 - R 0.36...50−R0.36...50−R  9.00"
   ]
  },
  {
   "cell_type": "code",
   "execution_count": null,
   "metadata": {},
   "outputs": [],
   "source": [
    "valor = float(input('Qual é o preço do pão? '))\n",
    "for res in range(1, 51):\n",
    "    print(f'{res:2} - R${valor * res:4.2f}')"
   ]
  },
  {
   "cell_type": "markdown",
   "metadata": {},
   "source": [
    "22 - O Sr. Manoel Joaquim expandiu seus negócios para além dos negócios de 1,99 e agora possui uma loja de conveniências. Faça um programa que implemente uma caixa registradora rudimentar. O programa deverá receber um número desconhecido de valores referentes aos preços das mercadorias. Um valor zero deve ser informado pelo operador para indicar o final dacompra. O programa deve então mostrar o total da compra e perguntar o valor em dinheiro que o cliente forneceu, para então calcular e mostrar o valor do troco. Após esta operação, o programa deverá voltar ao ponto inicial, para registrar a próxima compra.A saída deve ser conforme o exemplo abaixo:Lojas Tabajara Produto 1: R$ 2.20Produto 2: R 5.80Produto 3: R 0Total: R 9.00Dinheiro: R 20.00 Troco: R 11.00"
   ]
  },
  {
   "cell_type": "code",
   "execution_count": null,
   "metadata": {},
   "outputs": [],
   "source": [
    "def controladorCaixa():\n",
    "    listaValores = []\n",
    "    valorProduto = \"\"\n",
    "    contProduto = 0\n",
    "\n",
    "    while valorProduto != 0:\n",
    "        contProduto += 1\n",
    "        valorProduto = float(input(f'Produto {contProduto}: R$ '))\n",
    "        listaValores.append(valorProduto)\n",
    "    else:\n",
    "        contProduto = 0\n",
    "        contador = 0\n",
    "        total = sum(listaValores)\n",
    "        print('Lojas Tabajara')\n",
    "        for i in listaValores:\n",
    "            contProduto +=1\n",
    "            print(f'Produto {contProduto}: R$ {listaValores[contador]:{10}.{6}}')\n",
    "            contador +=1\n",
    "        print(f'Total: R$ {total:{10}.{6}}')\n",
    "        valorPagamento = float(input(f'Qual o valor que o cliente forneceu: R$ '))\n",
    "        print(f'Dinheiro: R$ {valorPagamento}')\n",
    "        troco = valorPagamento - total\n",
    "        print(f'Troco: R$ {troco}')\n",
    "        print('...')\n",
    "        controladorCaixa()"
   ]
  },
  {
   "cell_type": "markdown",
   "metadata": {},
   "source": [
    "23 - Foi feita uma estatística em cinco cidades brasileiras para coletar dados sobre acidentes de trânsito. Foram obtidos os seguintes dados: -Código da cidade; -Número de veículos de passeio (em 1999); -Número de acidentes de trânsito com vítimas (em 1999). Deseja-se saber: -Qual o maior e menor índice de acidentes de transito e a que cidade pertence; -Qual a média de veículos nas cinco cidades juntas; -Qual a média de acidentes de trânsito nas cidades com menos de 2.000 veículos de passeio."
   ]
  },
  {
   "cell_type": "code",
   "execution_count": null,
   "metadata": {},
   "outputs": [],
   "source": [
    "tamanho = 5\n",
    "cod_cidade =  [0] * tamanho\n",
    "n_acidentes = [0] * tamanho\n",
    "n_veiculos =  [0] * tamanho\n",
    "\n",
    "for i in range(tamanho):\n",
    "    cod_cidade[1] = int(input('Codigo da cidade: '))\n",
    "    n_veiculos[i] = int(input('Numero de veiculos de passeio: '))\n",
    "    n_acidentes[i]= int(input('Numero de acidentes: ')) \n",
    "    \n",
    "def somaAcidentes(listaAcidentes):\n",
    "    totalAcidentes=0\n",
    "    for numeroLista1 in listaAcidentes:\n",
    "        totalAcidentes += numeroLista1\n",
    "    return totalAcidentes\n",
    "    \n",
    "def somaVeiculos(listaVeiculos):\n",
    "    totalVeiculos=0\n",
    "    for numeroLista2 in listaVeiculos:\n",
    "        totalVeiculos += numeroLista2\n",
    "    return totalVeiculos\n",
    "\n",
    "def mediaVeiculos(listaVeiculos):\n",
    "    return (somaVeiculos(n_veiculos) / len(listaVeiculos))\n",
    "\n",
    "def mediaAcidentes(listaAcidentes):\n",
    "    return (somaAcidentes(n_acidentes) / len(listaAcidentes))\n",
    "\n",
    "print ('\\nMaior indice de acidentes: ',max(n_acidentes))\n",
    "print ('Menor indice de acidentes: ',min(n_acidentes))\n",
    "print ('Media de veículos nas cinco cidades: ', mediaVeiculos(n_veiculos))\n",
    "print ('Média de acidentes de transito nas cidades com menos de 2 Mil veículos: ', mediaAcidentes(n_acidentes))\n"
   ]
  },
  {
   "cell_type": "markdown",
   "metadata": {},
   "source": [
    "24 - Faça um programa que receba o valor de uma dívida e mostre uma tabela com\n",
    "os seguintes dados: valor da dívida, valor dos juros, quantidade de parcelas e valor\n",
    "da parcela.\n",
    "Os juros e a quantidade de parcelas seguem a tabela abaixo:\n",
    "Quantidade de Parcelas % de Juros sobre o valor inicial da dívida\n",
    "1 0\n",
    "3 10\n",
    "6 15\n",
    "9 20\n",
    "12 25\n",
    "Exemplo de saída do programa:\n",
    "Valor da Dívida Valor dos Juros Quantidade de Parcelas Valor da Parcela\n",
    "R$ 1.000,00 0 1 R$ 1.000,00\n",
    "R$ 1.100,00 100 3 R$ 366,00\n",
    "R$ 1.150,00 150 6 R$ 191,67"
   ]
  },
  {
   "cell_type": "code",
   "execution_count": null,
   "metadata": {},
   "outputs": [],
   "source": [
    "divida = float(input('Insira o valor da dívida: '))\n",
    "\n",
    "print('Valor da Dívida | Valor dos Juros | Qtd de Parcelas | Valor da Parcela')\n",
    "\n",
    "juros = 0\n",
    "\n",
    "for qtdeParcelas in [1, 3, 6, 9, 12]:\n",
    "    valorJuros = (divida * (juros / 100.0))\n",
    "    valorDivida = divida + valorJuros\n",
    "    valorParcela = valorDivida / qtdeParcelas\n",
    "    print ('R$ %.2f\\t| R$ %.2f\\t  |% i \\t\\t    | R$ %.2f' %(valorDivida, valorJuros, qtdeParcelas, valorParcela))\n",
    "    \n",
    "    if (qtdeParcelas == 1):\n",
    "        juros = 10.0\n",
    "    else:\n",
    "        juros += 5.0"
   ]
  },
  {
   "cell_type": "markdown",
   "metadata": {},
   "source": [
    "25 - Faça um programa que mostre os n termos da Série a seguir:S = 1/1 + 2/3 + 3/5 + 4/7 + 5/9 + ... + n/m. Imprima no final a soma da série."
   ]
  },
  {
   "cell_type": "code",
   "execution_count": null,
   "metadata": {},
   "outputs": [],
   "source": [
    "termo = int(input('Insira a quantidade de termos desejada: '))\n",
    "\n",
    "s = float(0)\n",
    "m = 1\n",
    "for n in range(1, termo + 1):\n",
    "    s += n / m\n",
    "    m += 2\n",
    "    \n",
    "print ('Soma da série: %.2f' % s)"
   ]
  },
  {
   "cell_type": "code",
   "execution_count": null,
   "metadata": {},
   "outputs": [],
   "source": []
  }
 ],
 "metadata": {
  "kernelspec": {
   "display_name": "Python 3",
   "language": "python",
   "name": "python3"
  },
  "language_info": {
   "codemirror_mode": {
    "name": "ipython",
    "version": 3
   },
   "file_extension": ".py",
   "mimetype": "text/x-python",
   "name": "python",
   "nbconvert_exporter": "python",
   "pygments_lexer": "ipython3",
   "version": "3.6.4"
  }
 },
 "nbformat": 4,
 "nbformat_minor": 2
}
